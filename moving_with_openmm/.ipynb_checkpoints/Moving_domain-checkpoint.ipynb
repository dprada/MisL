{
 "cells": [
  {
   "cell_type": "code",
   "execution_count": 1,
   "metadata": {},
   "outputs": [],
   "source": [
    "%load_ext autoreload\n",
    "%autoreload 2"
   ]
  },
  {
   "cell_type": "code",
   "execution_count": 2,
   "metadata": {},
   "outputs": [
    {
     "name": "stderr",
     "output_type": "stream",
     "text": [
      "/home/diego/Myopt/Miniconda/miniconda3/envs/UIBCDF_lab_dev/lib/python3.7/site-packages/yank/experiment.py:1161: YAMLLoadWarning: calling yaml.load() without Loader=... is deprecated, as the default Loader is unsafe. Please read https://msg.pyyaml.org/load for full details.\n",
      "  \"\"\")\n"
     ]
    }
   ],
   "source": [
    "import molmodmt as m3t\n",
    "import simtk.openmm as mm\n",
    "import simtk.unit as unit\n",
    "import simtk.openmm.app as app\n",
    "import numpy as np\n",
    "from sys import stdout"
   ]
  },
  {
   "cell_type": "markdown",
   "metadata": {},
   "source": [
    "# Preparación del sistema"
   ]
  },
  {
   "cell_type": "markdown",
   "metadata": {},
   "source": [
    "## Procesando el archivo pdb\n",
    "Cargamos el pdb del sistema y arreglamos con PDBFixer los posibles defectos como carencia de residuos, terminales o átomos:"
   ]
  },
  {
   "cell_type": "code",
   "execution_count": 3,
   "metadata": {},
   "outputs": [],
   "source": [
    "system_modeller = m3t.fix_pdb_structure('MisL_Phyre.pdb',output_form='openmm.Modeller')"
   ]
  },
  {
   "cell_type": "markdown",
   "metadata": {},
   "source": [
    "### Minimizamos el sistema"
   ]
  },
  {
   "cell_type": "code",
   "execution_count": 4,
   "metadata": {},
   "outputs": [
    {
     "name": "stdout",
     "output_type": "stream",
     "text": [
      "Potential Energy before minimization: 1942911897808799.8 kJ/mol\n",
      "Potential Energy after minimization: -22876.648593702226 kJ/mol\n"
     ]
    }
   ],
   "source": [
    "system_modeller_minimized = m3t.energy_minimization(system_modeller)"
   ]
  },
  {
   "cell_type": "code",
   "execution_count": 5,
   "metadata": {},
   "outputs": [
    {
     "data": {
      "application/vnd.jupyter.widget-view+json": {
       "model_id": "a7590311732b44b09b735d3deed64f96",
       "version_major": 2,
       "version_minor": 0
      },
      "text/plain": [
       "NGLWidget()"
      ]
     },
     "metadata": {},
     "output_type": "display_data"
    }
   ],
   "source": [
    "m3t.view([system_modeller, system_modeller_minimized])"
   ]
  },
  {
   "cell_type": "code",
   "execution_count": 6,
   "metadata": {},
   "outputs": [],
   "source": [
    "initial_positions = m3t.get(system_modeller_minimized, coordinates=True)\n",
    "topology = m3t.convert(system_modeller_minimized,'openmm.Topology')"
   ]
  },
  {
   "cell_type": "markdown",
   "metadata": {},
   "source": [
    "# Tiramos de un extremo aplicando restraints y constraints a parte de la molécula."
   ]
  },
  {
   "cell_type": "markdown",
   "metadata": {},
   "source": [
    "### Listas de átomos sobre las que aplicar restricciones"
   ]
  },
  {
   "cell_type": "markdown",
   "metadata": {},
   "source": [
    "Aplicamos restricciones espaciales de tipo harmónico a todos los átomos del dominio barril intra-membrana:"
   ]
  },
  {
   "cell_type": "code",
   "execution_count": 8,
   "metadata": {},
   "outputs": [],
   "source": [
    "list_atoms_positions_restrained = m3t.select(topology, 'resid 183 to 504')"
   ]
  },
  {
   "cell_type": "code",
   "execution_count": 9,
   "metadata": {},
   "outputs": [
    {
     "ename": "TypeError",
     "evalue": "'dict' object is not callable",
     "output_type": "error",
     "traceback": [
      "\u001b[0;31m---------------------------------------------------------------------------\u001b[0m",
      "\u001b[0;31mTypeError\u001b[0m                                 Traceback (most recent call last)",
      "\u001b[0;32m<ipython-input-9-015cc5da77b2>\u001b[0m in \u001b[0;36m<module>\u001b[0;34m\u001b[0m\n\u001b[0;32m----> 1\u001b[0;31m \u001b[0mm3t\u001b[0m\u001b[0;34m.\u001b[0m\u001b[0mview\u001b[0m\u001b[0;34m(\u001b[0m\u001b[0msystem_modeller_minimized\u001b[0m\u001b[0;34m,\u001b[0m \u001b[0mselection\u001b[0m\u001b[0;34m=\u001b[0m\u001b[0mlist_atoms_positions_restrained\u001b[0m\u001b[0;34m)\u001b[0m\u001b[0;34m\u001b[0m\u001b[0;34m\u001b[0m\u001b[0m\n\u001b[0m",
      "\u001b[0;32m~/Trabajo/Proyectos/LabTools/MolModMT/molmodmt/multitool.py\u001b[0m in \u001b[0;36mview\u001b[0;34m(item, viewer, selection, syntaxis)\u001b[0m\n\u001b[1;32m    282\u001b[0m \u001b[0;34m\u001b[0m\u001b[0m\n\u001b[1;32m    283\u001b[0m     \u001b[0;32mif\u001b[0m \u001b[0mselection\u001b[0m \u001b[0;32mis\u001b[0m \u001b[0;32mnot\u001b[0m \u001b[0;32mNone\u001b[0m\u001b[0;34m:\u001b[0m\u001b[0;34m\u001b[0m\u001b[0;34m\u001b[0m\u001b[0m\n\u001b[0;32m--> 284\u001b[0;31m         \u001b[0mtmp_item\u001b[0m \u001b[0;34m=\u001b[0m \u001b[0mextract\u001b[0m\u001b[0;34m(\u001b[0m\u001b[0mtmp_item\u001b[0m\u001b[0;34m,\u001b[0m \u001b[0mselection\u001b[0m\u001b[0;34m=\u001b[0m\u001b[0mselection\u001b[0m\u001b[0;34m,\u001b[0m \u001b[0msyntaxis\u001b[0m\u001b[0;34m=\u001b[0m\u001b[0msyntaxis\u001b[0m\u001b[0;34m)\u001b[0m\u001b[0;34m\u001b[0m\u001b[0;34m\u001b[0m\u001b[0m\n\u001b[0m\u001b[1;32m    285\u001b[0m \u001b[0;34m\u001b[0m\u001b[0m\n\u001b[1;32m    286\u001b[0m     \u001b[0;32mreturn\u001b[0m \u001b[0m_dict_converter\u001b[0m\u001b[0;34m[\u001b[0m\u001b[0min_form\u001b[0m\u001b[0;34m]\u001b[0m\u001b[0;34m[\u001b[0m\u001b[0mviewer\u001b[0m\u001b[0;34m]\u001b[0m\u001b[0;34m(\u001b[0m\u001b[0mtmp_item\u001b[0m\u001b[0;34m)\u001b[0m\u001b[0;34m\u001b[0m\u001b[0;34m\u001b[0m\u001b[0m\n",
      "\u001b[0;32m~/Trabajo/Proyectos/LabTools/MolModMT/molmodmt/multitool.py\u001b[0m in \u001b[0;36mextract\u001b[0;34m(item, selection, form, syntaxis)\u001b[0m\n\u001b[1;32m    128\u001b[0m         \u001b[0mlist_atoms\u001b[0m \u001b[0;34m=\u001b[0m \u001b[0mselect\u001b[0m\u001b[0;34m(\u001b[0m\u001b[0mitem\u001b[0m\u001b[0;34m=\u001b[0m\u001b[0mitem\u001b[0m\u001b[0;34m,\u001b[0m \u001b[0mselection\u001b[0m\u001b[0;34m=\u001b[0m\u001b[0mselection\u001b[0m\u001b[0;34m,\u001b[0m \u001b[0msyntaxis\u001b[0m\u001b[0;34m=\u001b[0m\u001b[0msyntaxis\u001b[0m\u001b[0;34m)\u001b[0m \u001b[0;31m# list_atoms 0-based\u001b[0m\u001b[0;34m\u001b[0m\u001b[0;34m\u001b[0m\u001b[0m\n\u001b[1;32m    129\u001b[0m     \u001b[0mlist_atoms\u001b[0m \u001b[0;34m=\u001b[0m \u001b[0m_sort\u001b[0m\u001b[0;34m(\u001b[0m\u001b[0mlist_atoms\u001b[0m\u001b[0;34m)\u001b[0m\u001b[0;34m\u001b[0m\u001b[0;34m\u001b[0m\u001b[0m\n\u001b[0;32m--> 130\u001b[0;31m     \u001b[0mextraction\u001b[0m \u001b[0;34m=\u001b[0m \u001b[0m_dict_extractor\u001b[0m\u001b[0;34m[\u001b[0m\u001b[0min_form\u001b[0m\u001b[0;34m]\u001b[0m\u001b[0;34m(\u001b[0m\u001b[0mitem\u001b[0m\u001b[0;34m,\u001b[0m \u001b[0mlist_atoms\u001b[0m\u001b[0;34m)\u001b[0m\u001b[0;34m\u001b[0m\u001b[0;34m\u001b[0m\u001b[0m\n\u001b[0m\u001b[1;32m    131\u001b[0m     \u001b[0;32mdel\u001b[0m\u001b[0;34m(\u001b[0m\u001b[0m_ndarray\u001b[0m\u001b[0;34m,\u001b[0m\u001b[0m_sort\u001b[0m\u001b[0;34m,\u001b[0m\u001b[0mlist_atoms\u001b[0m\u001b[0;34m)\u001b[0m\u001b[0;34m\u001b[0m\u001b[0;34m\u001b[0m\u001b[0m\n\u001b[1;32m    132\u001b[0m     \u001b[0;32mreturn\u001b[0m \u001b[0mconvert\u001b[0m\u001b[0;34m(\u001b[0m\u001b[0mextraction\u001b[0m\u001b[0;34m,\u001b[0m\u001b[0mform\u001b[0m\u001b[0;34m)\u001b[0m\u001b[0;34m\u001b[0m\u001b[0;34m\u001b[0m\u001b[0m\n",
      "\u001b[0;31mTypeError\u001b[0m: 'dict' object is not callable"
     ]
    }
   ],
   "source": [
    "m3t.view(system_modeller_minimized, selection=list_atoms_positions_restrained)"
   ]
  },
  {
   "cell_type": "markdown",
   "metadata": {},
   "source": [
    "Aplicamos restricciones a todas las distancias relativas entre todos los átomos CA y CB correspondientes al \"nucleo\" del dominio extracelular:"
   ]
  },
  {
   "cell_type": "code",
   "execution_count": null,
   "metadata": {},
   "outputs": [],
   "source": [
    "list_CAs_distances_constrained = m3t.select(system_pdbfixer, 'resid 0 to 180 and name CA')\n",
    "list_CBs_distances_constrained = m3t.select(system_pdbfixer, 'resid 0 to 180 and name CB')"
   ]
  },
  {
   "cell_type": "code",
   "execution_count": null,
   "metadata": {},
   "outputs": [],
   "source": [
    "view = m3t.view(system_pdbfixer, selection=list_CAs_distances_constrained)\n",
    "view.clear()\n",
    "view.add_ball_and_stick()\n",
    "view"
   ]
  },
  {
   "cell_type": "markdown",
   "metadata": {},
   "source": [
    "## Creando el sistema a simular"
   ]
  },
  {
   "cell_type": "code",
   "execution_count": null,
   "metadata": {},
   "outputs": [],
   "source": [
    "forcefield = app.ForceField('amber99sbildn.xml')"
   ]
  },
  {
   "cell_type": "code",
   "execution_count": null,
   "metadata": {},
   "outputs": [],
   "source": [
    "system = forcefield.createSystem(system_pdbfixer.topology, constraints=app.HBonds)"
   ]
  },
  {
   "cell_type": "markdown",
   "metadata": {},
   "source": [
    "### Añadiños las fuerzas externas de posición (restraints) e internas de distancias (constraints)"
   ]
  },
  {
   "cell_type": "markdown",
   "metadata": {},
   "source": [
    "### Restricciones harmónicas de posición"
   ]
  },
  {
   "cell_type": "code",
   "execution_count": null,
   "metadata": {},
   "outputs": [],
   "source": [
    "harmonic_restraint_potential = \"0.5*K*((x-xo)^2 + (y-yo)^2 + (z-zo)^2)\""
   ]
  },
  {
   "cell_type": "code",
   "execution_count": null,
   "metadata": {},
   "outputs": [],
   "source": [
    "harmonic_restraint_force = mm.CustomExternalForce(harmonic_restraint_potential)"
   ]
  },
  {
   "cell_type": "code",
   "execution_count": null,
   "metadata": {},
   "outputs": [],
   "source": [
    "harmonic_restraint_force.addGlobalParameter('K', 500.0 * unit.kilocalories_per_mole/unit.angstrom**2)\n",
    "harmonic_restraint_force.addPerParticleParameter('xo')\n",
    "harmonic_restraint_force.addPerParticleParameter('yo')\n",
    "harmonic_restraint_force.addPerParticleParameter('zo')"
   ]
  },
  {
   "cell_type": "code",
   "execution_count": null,
   "metadata": {},
   "outputs": [],
   "source": [
    "for index in list_atoms_positions_restrained:\n",
    "    parameters = system_pdbfixer.positions[index].value_in_unit_system(unit.md_unit_system)\n",
    "    harmonic_restraint_force.addParticle(int(index), parameters)"
   ]
  },
  {
   "cell_type": "code",
   "execution_count": null,
   "metadata": {},
   "outputs": [],
   "source": [
    "system.addForce(harmonic_restraint_force)"
   ]
  },
  {
   "cell_type": "markdown",
   "metadata": {},
   "source": [
    "### Restricciones harmónicas de distancia"
   ]
  },
  {
   "cell_type": "code",
   "execution_count": null,
   "metadata": {},
   "outputs": [],
   "source": [
    "# https://simtk.org/api_docs/openmm/api4_1/python/classsimtk_1_1openmm_1_1openmm_1_1HarmonicBondForce.html\n",
    "# https://simtk.org/api_docs/openmm/api4_1/python/classsimtk_1_1openmm_1_1openmm_1_1CustomBondForce.html#_details\n",
    "harmonic_bond_force = mm.HarmonicBondForce()"
   ]
  },
  {
   "cell_type": "code",
   "execution_count": null,
   "metadata": {},
   "outputs": [],
   "source": [
    "num_atoms_list_CAs = len(list_CAs_distances_constrained)\n",
    "\n",
    "k_cas = 500.0 * unit.kilocalories_per_mole/unit.angstrom**2\n",
    "\n",
    "for ii in range(num_atoms_list_CAs):\n",
    "    for jj in range(ii+1,num_atoms_list_CAs):\n",
    "        #dist_ii_jj = m3t.distances(system_pdbfixer,ii,jj)\n",
    "        vect = system_pdbfixer.positions[ii]-system_pdbfixer.positions[jj]\n",
    "        dist_ii_jj = np.sqrt(vect[0]**2+vect[1]**2+vect[2]**2)\n",
    "        harmonic_bond_force.addBond(int(ii), int(jj), dist_ii_jj, k_cas)"
   ]
  },
  {
   "cell_type": "code",
   "execution_count": null,
   "metadata": {},
   "outputs": [],
   "source": [
    "system.addForce(harmonic_bond_force)"
   ]
  },
  {
   "cell_type": "markdown",
   "metadata": {},
   "source": [
    "Otra manera más cómoda de añadir fuerzas es recurrir a la librería `openmmtools`:    \n",
    "https://openmmtools.readthedocs.io/en/latest/gettingstarted.html#forces    \n",
    "https://openmmtools.readthedocs.io/en/latest/forces.html    \n",
    "https://openmmtools.readthedocs.io/en/latest/api/generated/openmmtools.forces.HarmonicRestraintBondForce.html#openmmtools.forces.HarmonicRestraintBondForce    \n",
    "\n",
    "```python\n",
    "from openmmtools.forces import HarmonicRestraintBondForce\n",
    "\n",
    "num_atoms_list_CAs = len(list_CAs_distances_constrained)\n",
    "\n",
    "k_cas = 500.0 * unit.kilocalories_per_mole/unit.angstrom**2\n",
    "\n",
    "for ii in range(num_atoms_list_CAs):\n",
    "    for jj in range(ii+1,num_atoms_list_CAs):\n",
    "        distance_restraint = HarmonicRestraintBondForce (spring_constant=k_cas,\n",
    "                                                         restrained_atom_index1=int(ii),\n",
    "                                                         restrained_atom_index2=int(jj))\n",
    "        system.addForce(distance_restraint)\n",
    "```"
   ]
  },
  {
   "cell_type": "markdown",
   "metadata": {},
   "source": [
    "## Creando la simulación"
   ]
  },
  {
   "cell_type": "code",
   "execution_count": null,
   "metadata": {},
   "outputs": [],
   "source": [
    "kB = unit.BOLTZMANN_CONSTANT_kB * unit.AVOGADRO_CONSTANT_NA\n",
    "temperature = 0*unit.kelvin\n",
    "pressure    = None"
   ]
  },
  {
   "cell_type": "code",
   "execution_count": null,
   "metadata": {},
   "outputs": [],
   "source": [
    "friction   = 1.0/unit.picosecond\n",
    "step_size  = 2.0*unit.femtoseconds\n",
    "integrator = mm.LangevinIntegrator(temperature, friction, step_size)\n",
    "integrator.setConstraintTolerance(0.00001)"
   ]
  },
  {
   "cell_type": "code",
   "execution_count": null,
   "metadata": {},
   "outputs": [],
   "source": [
    "simulation_time = 0.5*unit.nanoseconds\n",
    "saving_time = 0.001*unit.nanoseconds\n",
    "simulation_steps = round(simulation_time/step_size)\n",
    "saving_steps     = round(saving_time/step_size)\n",
    "num_steps_saved  = round(simulation_steps/saving_steps)"
   ]
  },
  {
   "cell_type": "code",
   "execution_count": null,
   "metadata": {},
   "outputs": [],
   "source": [
    "print('Simulation steps:', simulation_steps)\n",
    "print('Saving steps:', saving_steps)\n",
    "print('Saved steps:', num_steps_saved)"
   ]
  },
  {
   "cell_type": "code",
   "execution_count": null,
   "metadata": {},
   "outputs": [],
   "source": [
    "for ii in range(mm.Platform.getNumPlatforms()):\n",
    "    platform_name  = mm.Platform.getPlatform(ii).getName()\n",
    "    platform       = mm.Platform.getPlatformByName(platform_name)\n",
    "    platform_speed = platform.getSpeed()\n",
    "    print('Plataforma {} con velocidad {}'.format(platform_name,platform_speed))\n",
    "    del(platform_name, platform, platform_speed)"
   ]
  },
  {
   "cell_type": "code",
   "execution_count": null,
   "metadata": {},
   "outputs": [],
   "source": [
    "platform = mm.Platform.getPlatformByName('CUDA')\n",
    "properties = {'CudaPrecision': 'mixed'}"
   ]
  },
  {
   "cell_type": "code",
   "execution_count": null,
   "metadata": {},
   "outputs": [],
   "source": [
    "simulation = app.Simulation(system_pdbfixer.topology, system, integrator, platform, properties)"
   ]
  },
  {
   "cell_type": "code",
   "execution_count": null,
   "metadata": {},
   "outputs": [],
   "source": [
    "simulation.context.setPositions(system_pdbfixer.positions)\n",
    "simulation.context.setVelocitiesToTemperature(0*unit.kelvin)"
   ]
  },
  {
   "cell_type": "code",
   "execution_count": null,
   "metadata": {},
   "outputs": [],
   "source": [
    "simulation.minimizeEnergy()"
   ]
  },
  {
   "cell_type": "code",
   "execution_count": null,
   "metadata": {},
   "outputs": [],
   "source": [
    "simulation.reporters.append(app.DCDReporter('trajectory.dcd', saving_steps))\n",
    "simulation.reporters.append(app.StateDataReporter(stdout, 1*saving_steps, step=True,\n",
    "                            progress=True, remainingTime=True,\n",
    "                            speed=True, totalSteps=simulation_steps, separator='\\t'))"
   ]
  },
  {
   "cell_type": "code",
   "execution_count": null,
   "metadata": {},
   "outputs": [],
   "source": [
    "aa = simulation.context.getState(getPositions=True)"
   ]
  },
  {
   "cell_type": "code",
   "execution_count": null,
   "metadata": {},
   "outputs": [],
   "source": [
    "aa.getPositions()"
   ]
  },
  {
   "cell_type": "code",
   "execution_count": null,
   "metadata": {},
   "outputs": [],
   "source": [
    "simulation.step(simulation_steps)"
   ]
  },
  {
   "cell_type": "code",
   "execution_count": null,
   "metadata": {},
   "outputs": [],
   "source": [
    "for index in restrained_atoms:\n",
    "        parameters = sampler_state.positions[index,:].value_in_unit_system(unit.md_unit_system)\n",
    "        restraint_force.addParticle(index, parameters)"
   ]
  },
  {
   "cell_type": "markdown",
   "metadata": {},
   "source": [
    "Esto podía haber sido hecho de manera más económica haciendo uso de por ejemplo https://openmmtools.readthedocs.io/en/latest/forces.html\n",
    "o https://openmmtools.readthedocs.io/en/latest/_modules/openmmtools/forcefactories.html"
   ]
  },
  {
   "cell_type": "code",
   "execution_count": null,
   "metadata": {},
   "outputs": [],
   "source": [
    "https://github.com/uibcdf/Academia/blob/master/Din%C3%A1mica_Molecular/Pozo_Harm%C3%B3nico.ipynb\n",
    "https://github.com/uibcdf/Academia/blob/master/Din%C3%A1mica_Molecular/MetEncefalina.ipynb\n",
    "https://openmmtools.readthedocs.io/en/latest/_modules/openmmtools/forcefactories.html\n",
    "http://www.maccallumlab.org/news/2015/1/23/testing\n",
    "http://mdtraj.org/latest/examples/openmm.html\n",
    "http://mdtraj.org/development/api/reporters.html\n",
    "https://openmmtools.readthedocs.io/en/latest/gettingstarted.html"
   ]
  },
  {
   "cell_type": "code",
   "execution_count": null,
   "metadata": {},
   "outputs": [],
   "source": []
  }
 ],
 "metadata": {
  "kernelspec": {
   "display_name": "Python 3",
   "language": "python",
   "name": "python3"
  },
  "language_info": {
   "codemirror_mode": {
    "name": "ipython",
    "version": 3
   },
   "file_extension": ".py",
   "mimetype": "text/x-python",
   "name": "python",
   "nbconvert_exporter": "python",
   "pygments_lexer": "ipython3",
   "version": "3.7.1"
  }
 },
 "nbformat": 4,
 "nbformat_minor": 2
}
