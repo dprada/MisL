{
 "cells": [
  {
   "cell_type": "code",
   "execution_count": 1,
   "metadata": {},
   "outputs": [
    {
     "name": "stderr",
     "output_type": "stream",
     "text": [
      "/home/diego/Myopt/Miniconda/miniconda3/envs/UIBCDF_lab_dev/lib/python3.7/site-packages/yank/experiment.py:1161: YAMLLoadWarning: calling yaml.load() without Loader=... is deprecated, as the default Loader is unsafe. Please read https://msg.pyyaml.org/load for full details.\n",
      "  \"\"\")\n"
     ]
    }
   ],
   "source": [
    "import molmodmt as m3t\n",
    "import simtk.openmm as mm\n",
    "import simtk.unit as unit\n",
    "import simtk.openmm.app as app\n",
    "import openmmtools as mmtools\n",
    "from pdbfixer import PDBFixer\n",
    "import nglview as nv"
   ]
  },
  {
   "cell_type": "code",
   "execution_count": 2,
   "metadata": {},
   "outputs": [],
   "source": [
    "forcefield = app.ForceField('amber99sbildn.xml')"
   ]
  },
  {
   "cell_type": "code",
   "execution_count": 3,
   "metadata": {},
   "outputs": [],
   "source": [
    "system_pdb=PDBFixer('MisL_Phyre.pdb')"
   ]
  },
  {
   "cell_type": "code",
   "execution_count": 4,
   "metadata": {},
   "outputs": [
    {
     "data": {
      "text/plain": [
       "<Topology; 1 chains, 505 residues, 3911 atoms, 4008 bonds>"
      ]
     },
     "execution_count": 4,
     "metadata": {},
     "output_type": "execute_result"
    }
   ],
   "source": [
    "system_pdb.topology"
   ]
  },
  {
   "cell_type": "code",
   "execution_count": 5,
   "metadata": {},
   "outputs": [
    {
     "name": "stdout",
     "output_type": "stream",
     "text": [
      "Missing residues:\n",
      "None\n",
      "NonStandard residues:\n",
      "None\n",
      "Missing atoms:\n",
      "None\n"
     ]
    }
   ],
   "source": [
    "missing_residues     = system_pdb.findMissingResidues()\n",
    "nonstandard_residues = system_pdb.findNonstandardResidues()\n",
    "missing_atoms        = system_pdb.findMissingAtoms()\n",
    "\n",
    "print('Missing residues:')\n",
    "print(missing_residues)\n",
    "print('NonStandard residues:')\n",
    "print(nonstandard_residues)\n",
    "print('Missing atoms:')\n",
    "print(missing_atoms)"
   ]
  },
  {
   "cell_type": "code",
   "execution_count": 6,
   "metadata": {},
   "outputs": [
    {
     "data": {
      "text/plain": [
       "{<Residue 504 (PHE) of chain 0>: ['OXT']}"
      ]
     },
     "execution_count": 6,
     "metadata": {},
     "output_type": "execute_result"
    }
   ],
   "source": [
    "system_pdb.missingTerminals"
   ]
  },
  {
   "cell_type": "code",
   "execution_count": 7,
   "metadata": {},
   "outputs": [],
   "source": [
    "system_pdb.addMissingAtoms()"
   ]
  },
  {
   "cell_type": "code",
   "execution_count": 8,
   "metadata": {},
   "outputs": [],
   "source": [
    "system_pdb.addMissingHydrogens(pH=7.4)"
   ]
  },
  {
   "cell_type": "code",
   "execution_count": 9,
   "metadata": {},
   "outputs": [
    {
     "data": {
      "application/vnd.jupyter.widget-view+json": {
       "model_id": "8b242930de5e4e3792c7645e51769dfe",
       "version_major": 2,
       "version_minor": 0
      },
      "text/plain": [
       "NGLWidget()"
      ]
     },
     "metadata": {},
     "output_type": "display_data"
    }
   ],
   "source": [
    "m3t.view(system_pdb)"
   ]
  },
  {
   "cell_type": "code",
   "execution_count": 10,
   "metadata": {},
   "outputs": [],
   "source": [
    "system = forcefield.createSystem(system_pdb.topology, constraints=app.HBonds)"
   ]
  },
  {
   "cell_type": "code",
   "execution_count": 11,
   "metadata": {},
   "outputs": [],
   "source": [
    "kB = unit.BOLTZMANN_CONSTANT_kB * unit.AVOGADRO_CONSTANT_NA\n",
    "temperature = 0*unit.kelvin\n",
    "pressure    = None"
   ]
  },
  {
   "cell_type": "code",
   "execution_count": 12,
   "metadata": {},
   "outputs": [],
   "source": [
    "friction   = 1.0/unit.picosecond\n",
    "step_size  = 2.0*unit.femtoseconds\n",
    "integrator = mm.LangevinIntegrator(temperature, friction, step_size)\n",
    "integrator.setConstraintTolerance(0.00001)"
   ]
  },
  {
   "cell_type": "code",
   "execution_count": 13,
   "metadata": {},
   "outputs": [],
   "source": [
    "simulation_time = 0.5*unit.nanoseconds\n",
    "simulation_steps = round(simulation_time/step_size)"
   ]
  },
  {
   "cell_type": "code",
   "execution_count": 14,
   "metadata": {},
   "outputs": [
    {
     "data": {
      "text/plain": [
       "250000"
      ]
     },
     "execution_count": 14,
     "metadata": {},
     "output_type": "execute_result"
    }
   ],
   "source": [
    "simulation_steps"
   ]
  },
  {
   "cell_type": "code",
   "execution_count": 15,
   "metadata": {},
   "outputs": [
    {
     "name": "stdout",
     "output_type": "stream",
     "text": [
      "Plataforma Reference con velocidad 1.0\n",
      "Plataforma CPU con velocidad 10.0\n",
      "Plataforma CUDA con velocidad 100.0\n",
      "Plataforma OpenCL con velocidad 50.0\n"
     ]
    }
   ],
   "source": [
    "for ii in range(mm.Platform.getNumPlatforms()):\n",
    "    platform_name  = mm.Platform.getPlatform(ii).getName()\n",
    "    platform       = mm.Platform.getPlatformByName(platform_name)\n",
    "    platform_speed = platform.getSpeed()\n",
    "    print('Plataforma {} con velocidad {}'.format(platform_name,platform_speed))\n",
    "    del(platform_name, platform, platform_speed)"
   ]
  },
  {
   "cell_type": "code",
   "execution_count": 16,
   "metadata": {},
   "outputs": [],
   "source": [
    "platform = mm.Platform.getPlatformByName('CUDA')\n",
    "properties = {'CudaPrecision': 'mixed'}"
   ]
  },
  {
   "cell_type": "code",
   "execution_count": 24,
   "metadata": {},
   "outputs": [],
   "source": [
    "initial_positions = system_pdb.positions"
   ]
  },
  {
   "cell_type": "code",
   "execution_count": 17,
   "metadata": {},
   "outputs": [],
   "source": [
    "harmonic_potential = '0.5*K*((x-xo)^2+(y-yo)^2+(z-zo)^2)'"
   ]
  },
  {
   "cell_type": "code",
   "execution_count": 18,
   "metadata": {},
   "outputs": [],
   "source": [
    "harmonic_restraint_force = mm.CustomExternalForce(harmonic_potential)"
   ]
  },
  {
   "cell_type": "code",
   "execution_count": 19,
   "metadata": {},
   "outputs": [
    {
     "data": {
      "text/plain": [
       "2"
      ]
     },
     "execution_count": 19,
     "metadata": {},
     "output_type": "execute_result"
    }
   ],
   "source": [
    "harmonic_restraint_force.addGlobalParameter('K', 500.0 * unit.kilocalories_per_mole/unit.angstrom**2)\n",
    "harmonic_restraint_force.addPerParticleParameter('x0')\n",
    "harmonic_restraint_force.addPerParticleParameter('y0')\n",
    "harmonic_restraint_force.addPerParticleParameter('z0')"
   ]
  },
  {
   "cell_type": "code",
   "execution_count": 20,
   "metadata": {},
   "outputs": [],
   "source": [
    "restrained_atoms = [0]"
   ]
  },
  {
   "cell_type": "code",
   "execution_count": 21,
   "metadata": {},
   "outputs": [],
   "source": [
    "simulation = app.Simulation(system_pdb.topology, system, integrator, platform, properties)"
   ]
  },
  {
   "cell_type": "code",
   "execution_count": 23,
   "metadata": {},
   "outputs": [],
   "source": [
    "simulation.context.setPositions(initial_positions)\n",
    "simulation.context.setVelocitiesToTemperature(0*unit.kelvin)"
   ]
  },
  {
   "cell_type": "code",
   "execution_count": null,
   "metadata": {},
   "outputs": [],
   "source": [
    "simulation.step(10000)"
   ]
  },
  {
   "cell_type": "code",
   "execution_count": null,
   "metadata": {},
   "outputs": [],
   "source": [
    "for index in restrained_atoms:\n",
    "        parameters = sampler_state.positions[index,:].value_in_unit_system(unit.md_unit_system)\n",
    "        restraint_force.addParticle(index, parameters)"
   ]
  },
  {
   "cell_type": "markdown",
   "metadata": {},
   "source": [
    "Esto podía haber sido hecho de manera más económica haciendo uso de por ejemplo https://openmmtools.readthedocs.io/en/latest/forces.html\n",
    "o https://openmmtools.readthedocs.io/en/latest/_modules/openmmtools/forcefactories.html"
   ]
  },
  {
   "cell_type": "code",
   "execution_count": null,
   "metadata": {},
   "outputs": [],
   "source": [
    "https://github.com/uibcdf/Academia/blob/master/Din%C3%A1mica_Molecular/Pozo_Harm%C3%B3nico.ipynb\n",
    "https://github.com/uibcdf/Academia/blob/master/Din%C3%A1mica_Molecular/MetEncefalina.ipynb\n",
    "https://openmmtools.readthedocs.io/en/latest/_modules/openmmtools/forcefactories.html\n",
    "http://www.maccallumlab.org/news/2015/1/23/testing\n",
    "http://mdtraj.org/latest/examples/openmm.html\n",
    "http://mdtraj.org/development/api/reporters.html\n",
    "https://openmmtools.readthedocs.io/en/latest/gettingstarted.html"
   ]
  }
 ],
 "metadata": {
  "kernelspec": {
   "display_name": "Python 3",
   "language": "python",
   "name": "python3"
  },
  "language_info": {
   "codemirror_mode": {
    "name": "ipython",
    "version": 3
   },
   "file_extension": ".py",
   "mimetype": "text/x-python",
   "name": "python",
   "nbconvert_exporter": "python",
   "pygments_lexer": "ipython3",
   "version": "3.7.1"
  }
 },
 "nbformat": 4,
 "nbformat_minor": 2
}
